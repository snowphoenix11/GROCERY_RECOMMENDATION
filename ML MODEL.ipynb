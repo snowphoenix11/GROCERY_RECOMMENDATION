{
 "cells": [
  {
   "cell_type": "code",
   "execution_count": 3,
   "id": "5733c448",
   "metadata": {},
   "outputs": [],
   "source": [
    "import pandas as pd\n",
    "import numpy as np\n",
    "import matplotlib.pyplot as plt\n",
    "import seaborn as sns\n",
    "from sklearn.feature_extraction.text import CountVectorizer\n",
    "from sklearn.model_selection import train_test_split\n",
    "from sklearn.naive_bayes import MultinomialNB\n"
   ]
  },
  {
   "cell_type": "code",
   "execution_count": null,
   "id": "f70a8c70",
   "metadata": {},
   "outputs": [],
   "source": [
    "#importing dataset\n",
    "original_ds=pd.read_excel('C:/Users/singh/Sample data.xlsx')\n",
    "print(original_ds.dtypes)"
   ]
  },
  {
   "cell_type": "code",
   "execution_count": null,
   "id": "f3211215",
   "metadata": {},
   "outputs": [],
   "source": [
    "original_ds.head()"
   ]
  },
  {
   "cell_type": "code",
   "execution_count": null,
   "id": "4eccb920",
   "metadata": {},
   "outputs": [],
   "source": [
    "# categorizing the different types of products\n",
    "# we classified the different types of products are sold by various agency\n",
    "original_ds['Product Type'].value_counts()"
   ]
  },
  {
   "cell_type": "code",
   "execution_count": null,
   "id": "47daf989",
   "metadata": {},
   "outputs": [],
   "source": [
    "new_ds= original_ds[[\"Product Type\", \"Distributor\",\"YTD Vol (MT)\"]]\n",
    "new_ds.head()"
   ]
  },
  {
   "cell_type": "code",
   "execution_count": null,
   "id": "be22f432",
   "metadata": {},
   "outputs": [],
   "source": [
    "x = np.array(new_ds[\"Product Type\"])\n",
    "y = np.array(new_ds[\"Distributor\"])\n",
    "\n",
    "cv = CountVectorizer()\n",
    "X = cv.fit_transform(x)\n",
    "X_train, X_test, y_train, y_test = train_test_split(X, y, test_size=0.33, random_state=42)"
   ]
  },
  {
   "cell_type": "code",
   "execution_count": null,
   "id": "c3984a84",
   "metadata": {},
   "outputs": [],
   "source": [
    "#Now I will be using the Multinomial Naive Bayes algorithm to train a news classification model:\n",
    "model = MultinomialNB()\n",
    "model.fit(X_train,y_train)"
   ]
  },
  {
   "cell_type": "raw",
   "id": "1f4bc723",
   "metadata": {
    "scrolled": false
   },
   "source": [
    "****************************************************************************************************************************"
   ]
  },
  {
   "cell_type": "code",
   "execution_count": null,
   "id": "e92e9567",
   "metadata": {},
   "outputs": [
    {
     "name": "stdout",
     "output_type": "stream",
     "text": [
      "Welcome to the HEALTHY EATING Help center\n",
      "Item Available in our stores\n",
      "REGULAR SOYA NUGGETS,CHAKKI ATTA,BASMATI RICE,RICE BRAN,CHANA BESAN,SOAP CAKE,MATAR BESAN\n",
      "BLEND,MAIDA,KHICHADI,NON BASMATI,SUJI,MASOOR,MATAR,NON-GMO SOYA NUGGETS,CHANA,GROUND NUT,ARHAR\n"
     ]
    }
   ],
   "source": [
    "#testing my model\n",
    "print(\"Welcome to the HEALTHY EATING Help center\")\n",
    "print(\"Item Available in our stores\")\n",
    "print(\"REGULAR SOYA NUGGETS,CHAKKI ATTA,BASMATI RICE,RICE BRAN,CHANA BESAN,SOAP CAKE,MATAR BESAN\")\n",
    "print(\"BLEND,MAIDA,KHICHADI,NON BASMATI,SUJI,MASOOR,MATAR,NON-GMO SOYA NUGGETS,CHANA,GROUND NUT,ARHAR\")\n",
    "user = input(\"Enter a item; it will provide distributor of the product: \")\n",
    "data = cv.transform([user]).toarray()\n",
    "output = model.predict(data)\n",
    "print(\"The following item is available to this distributor: \", output)"
   ]
  },
  {
   "cell_type": "code",
   "execution_count": null,
   "id": "4e2981f9",
   "metadata": {},
   "outputs": [],
   "source": []
  },
  {
   "cell_type": "code",
   "execution_count": null,
   "id": "cda24786",
   "metadata": {},
   "outputs": [],
   "source": []
  },
  {
   "cell_type": "code",
   "execution_count": null,
   "id": "8529e714",
   "metadata": {},
   "outputs": [],
   "source": []
  }
 ],
 "metadata": {
  "kernelspec": {
   "display_name": "Python 3",
   "language": "python",
   "name": "python3"
  },
  "language_info": {
   "codemirror_mode": {
    "name": "ipython",
    "version": 3
   },
   "file_extension": ".py",
   "mimetype": "text/x-python",
   "name": "python",
   "nbconvert_exporter": "python",
   "pygments_lexer": "ipython3",
   "version": "3.8.8"
  }
 },
 "nbformat": 4,
 "nbformat_minor": 5
}
